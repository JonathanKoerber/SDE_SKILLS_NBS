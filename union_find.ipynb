{
 "cells": [
  {
   "cell_type": "markdown",
   "metadata": {},
   "source": [
    "1. The earliest moment when everyone become friends\n",
    "\n",
    "![q1](images/q1.png) \n",
    "[link](https://plainenglish.io/blog/union-find-data-structure-in-python-8e55369e2a4f)\n"
   ]
  },
  {
   "cell_type": "code",
   "execution_count": 22,
   "metadata": {},
   "outputs": [
    {
     "name": "stdout",
     "output_type": "stream",
     "text": [
      "find set 0\n",
      "is parrent  0\n",
      "find set 1\n",
      "is parrent  1\n",
      "[0, 0, 2, 3, 4, 5]\n",
      "************\n",
      "x:  0 y:  1 timestamp:  20190101\n",
      "unique_parent:  [0, 0, 2, 3, 4, 5] {0, 2, 3, 4, 5}\n",
      "find set 3\n",
      "is parrent  3\n",
      "find set 4\n",
      "is parrent  4\n",
      "[0, 0, 2, 3, 3, 5]\n",
      "************\n",
      "x:  3 y:  4 timestamp:  20190104\n",
      "unique_parent:  [0, 0, 2, 3, 3, 5] {0, 2, 3, 5}\n",
      "find set 2\n",
      "is parrent  2\n",
      "find set 3\n",
      "is parrent  3\n",
      "[0, 0, 2, 2, 3, 5]\n",
      "************\n",
      "x:  2 y:  3 timestamp:  20190107\n",
      "unique_parent:  [0, 0, 2, 2, 3, 5] {0, 2, 3, 5}\n",
      "find set 1\n",
      "find set 0\n",
      "is parrent  0\n",
      "is parrent  1\n",
      "find set 5\n",
      "is parrent  5\n",
      "[0, 0, 2, 2, 3, 0]\n",
      "************\n",
      "x:  1 y:  5 timestamp:  20190211\n",
      "unique_parent:  [0, 0, 2, 2, 3, 0] {0, 2, 3}\n",
      "find set 2\n",
      "is parrent  2\n",
      "find set 4\n",
      "find set 3\n",
      "find set 2\n",
      "is parrent  2\n",
      "is parrent  3\n",
      "is parrent  4\n",
      "[0, 0, 2, 2, 2, 0]\n",
      "************\n",
      "x:  2 y:  4 timestamp:  20190224\n",
      "unique_parent:  [0, 0, 2, 2, 2, 0] {0, 2}\n",
      "find set 0\n",
      "is parrent  0\n",
      "find set 1\n",
      "find set 0\n",
      "is parrent  0\n",
      "is parrent  1\n",
      "[0, 0, 2, 2, 2, 0]\n",
      "************\n",
      "x:  0 y:  1 timestamp:  20190301\n",
      "unique_parent:  [0, 0, 2, 2, 2, 0] {0, 2}\n",
      "find set 1\n",
      "find set 0\n",
      "is parrent  0\n",
      "is parrent  1\n",
      "find set 2\n",
      "is parrent  2\n",
      "[0, 0, 0, 2, 2, 0]\n",
      "************\n",
      "x:  1 y:  2 timestamp:  20190312\n",
      "unique_parent:  [0, 0, 0, 2, 2, 0] {0, 2}\n",
      "find set 4\n",
      "find set 2\n",
      "find set 0\n",
      "is parrent  0\n",
      "is parrent  2\n",
      "is parrent  4\n",
      "find set 5\n",
      "find set 0\n",
      "is parrent  0\n",
      "is parrent  5\n",
      "[0, 0, 0, 2, 0, 0]\n",
      "************\n",
      "x:  4 y:  5 timestamp:  20190322\n",
      "unique_parent:  [0, 0, 0, 2, 0, 0] {0, 2}\n"
     ]
    }
   ],
   "source": [
    "logs = [[20190101, 0, 1], [20190104, 3, 4], [20190107, 2, 3], \n",
    "        [20190211, 1, 5], [20190224, 2, 4], [20190301, 0, 1], \n",
    "        [20190312, 1, 2], [20190322, 4, 5]]\n",
    "\n",
    "n = 6\n",
    "out = 20190301\n",
    "parr = [ i for i in range(n)]\n",
    "unique_parent = set()\n",
    "\n",
    "def find_set(x):\n",
    "    print(\"find set\", x)\n",
    "    if x != parr[x]:\n",
    "        parr[x] = find_set(parr[x])\n",
    "    print(\"is parrent \",x)\n",
    "    return parr[x]\n",
    "def union(x, y):\n",
    "        parr[find_set(y)] = find_set(x)\n",
    "        print(parr)\n",
    "        print(\"************\")\n",
    "def connected():\n",
    "     print(\"unique_parent: \", parr, set(parr))\n",
    "     return len(set(parr)) == 1\n",
    "\n",
    "for timestamp, per1, per2 in sorted(logs):\n",
    "    union(per1, per2)\n",
    "    print(\"x: \", per1, \"y: \", per2, \"timestamp: \", timestamp)\n",
    "    if connected():\n",
    "        print(\"connected\")\n",
    "        print(timestamp)\n",
    "        break\n",
    "\n"
   ]
  },
  {
   "cell_type": "code",
   "execution_count": null,
   "metadata": {},
   "outputs": [],
   "source": [
    "logs = [[0,2,0], [1,0,1], [3, 0, 0], [4, 1, 2], [7, 3, 1]]\n",
    "n = 4\n",
    "out = 3\n",
    "\n"
   ]
  },
  {
   "cell_type": "markdown",
   "metadata": {},
   "source": [
    "![q2](images/q2.png)"
   ]
  },
  {
   "cell_type": "code",
   "execution_count": null,
   "metadata": {},
   "outputs": [],
   "source": [
    "n = 5\n",
    "edges = [[0, 1, 1], [1,  2, 1], [2,3,2], [0, 3, 2], [0, 4, 3], [1, 4, 6]]\n",
    "out = [[0, 1], [2, 3, 4, 5]]\n"
   ]
  },
  {
   "cell_type": "markdown",
   "metadata": {},
   "source": [
    "![q3](images/q3.png)"
   ]
  },
  {
   "cell_type": "code",
   "execution_count": null,
   "metadata": {},
   "outputs": [],
   "source": [
    "vals = [1, 3, 2, 1, 3]\n",
    "edges = [[0, 1], [0, 2], [2, 3], [2, 4]]\n",
    "out =- 6"
   ]
  },
  {
   "cell_type": "markdown",
   "metadata": {},
   "source": [
    "\n",
    "![q4](images/q4.png)"
   ]
  },
  {
   "cell_type": "code",
   "execution_count": 24,
   "metadata": {},
   "outputs": [
    {
     "name": "stdout",
     "output_type": "stream",
     "text": [
      "[[0, 0, 0], [0, 0, 0], [0, 0, 0]]\n"
     ]
    }
   ],
   "source": [
    "m, n = 3, 3\n",
    "pos = [[0,0], [0, 1], [1, 2], [2, 1]]\n",
    "out = [1, 1, 2, 3]\n",
    "\n",
    "grid = []\n",
    "for mi in range(m):\n",
    "    grid.append([0 for i in range(n)])\n",
    "for "
   ]
  },
  {
   "cell_type": "code",
   "execution_count": null,
   "metadata": {},
   "outputs": [],
   "source": []
  }
 ],
 "metadata": {
  "kernelspec": {
   "display_name": "venv",
   "language": "python",
   "name": "python3"
  },
  "language_info": {
   "codemirror_mode": {
    "name": "ipython",
    "version": 3
   },
   "file_extension": ".py",
   "mimetype": "text/x-python",
   "name": "python",
   "nbconvert_exporter": "python",
   "pygments_lexer": "ipython3",
   "version": "3.10.12"
  }
 },
 "nbformat": 4,
 "nbformat_minor": 2
}
